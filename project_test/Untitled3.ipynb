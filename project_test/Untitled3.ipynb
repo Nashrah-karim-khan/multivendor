{
 "cells": [
  {
   "cell_type": "code",
   "execution_count": 1,
   "id": "d41a2601",
   "metadata": {},
   "outputs": [
    {
     "name": "stdout",
     "output_type": "stream",
     "text": [
      "imported\n"
     ]
    }
   ],
   "source": [
    "from selenium.common.exceptions import NoSuchElementException, ElementClickInterceptedException\n",
    "from selenium import webdriver\n",
    "import time\n",
    "print(\"imported\")"
   ]
  },
  {
   "cell_type": "code",
   "execution_count": 2,
   "id": "af3a2c1d",
   "metadata": {},
   "outputs": [],
   "source": [
    "options = webdriver.ChromeOptions()\n",
    "driver = webdriver.Chrome(executable_path='chromedriver.exe', options=options)\n",
    "driver.set_window_size(1120, 1000)\n",
    "url = 'http://127.0.0.1:8000/'\n",
    "driver.get(url)"
   ]
  },
  {
   "cell_type": "code",
   "execution_count": 4,
   "id": "b0dee82c",
   "metadata": {},
   "outputs": [
    {
     "name": "stdout",
     "output_type": "stream",
     "text": [
      "TEST SUCCESSFULL\n"
     ]
    }
   ],
   "source": [
    "options = webdriver.ChromeOptions()\n",
    "driver = webdriver.Chrome(executable_path='chromedriver.exe', options=options)\n",
    "driver.set_window_size(1120, 1000)\n",
    "login_url='http://127.0.0.1:8000/vendors/login/'\n",
    "driver.get(login_url)\n",
    "username_field=driver.find_element_by_xpath('//*[@id=\"id_username\"]')\n",
    "password_field=driver.find_element_by_xpath('//*[@id=\"id_password\"]')\n",
    "login_button=driver.find_element_by_xpath('/html/body/section/div/form/div/div/button')\n",
    "username_field.click()\n",
    "#time.sleep(3)\n",
    "username_field.send_keys('admin')\n",
    "#time.sleep(3)\n",
    "password_field.click()\n",
    "#time.sleep(3)\n",
    "password_field.send_keys('vendor1234')\n",
    "#time.sleep(3)\n",
    "login_button.click()\n",
    "time.sleep(3)\n",
    "check=driver.find_element_by_xpath('/html/body/section/div/div[1]/h1')\n",
    "if(check.text=='Vendor admin - momo'):\n",
    "    print(\"TEST SUCCESSFULL\")\n",
    "else:\n",
    "    print(\"TEST FAILED\")"
   ]
  },
  {
   "cell_type": "code",
   "execution_count": 6,
   "id": "e59eb7ac",
   "metadata": {},
   "outputs": [
    {
     "name": "stdout",
     "output_type": "stream",
     "text": [
      "Vendor admin - test-623350 Vendor admin - test-623350\n",
      "SUCCESSFULL\n"
     ]
    }
   ],
   "source": [
    "import random\n",
    "options = webdriver.ChromeOptions()\n",
    "driver = webdriver.Chrome(executable_path='chromedriver.exe', options=options)\n",
    "driver.set_window_size(1120, 1000)\n",
    "signup_url='http://127.0.0.1:8000/vendors/become_vendor/'\n",
    "driver.get(signup_url)\n",
    "username_field=driver.find_element_by_xpath('//*[@id=\"id_username\"]')\n",
    "password_field=driver.find_element_by_xpath('//*[@id=\"id_password1\"]')\n",
    "password_confirmation_field=driver.find_element_by_xpath('//*[@id=\"id_password2\"]')\n",
    "signup_button=driver.find_element_by_xpath('/html/body/section/div/form/div/div/button')\n",
    "\n",
    "username_field.click()\n",
    "time.sleep(3)\n",
    "username=\"test-\"+str(random.randint(10,1000000))\n",
    "username_field.send_keys(username)\n",
    "\n",
    "password=\"a1234@ejrw3\"\n",
    "\n",
    "password_field.click()\n",
    "password_field.send_keys(password)\n",
    "\n",
    "password_confirmation_field.click()\n",
    "password_confirmation_field.send_keys(password)\n",
    "\n",
    "signup_button.click()\n",
    "time.sleep(3)\n",
    "driver.get('http://127.0.0.1:8000/vendors/vendor-admin/')\n",
    "\n",
    "\n",
    "username_test='Vendor admin - '+str(username)\n",
    "check=driver.find_element_by_xpath('/html/body/section/div/div[1]/h1')\n",
    "print(username_test,check.text)\n",
    "if username_test==check.text:\n",
    "    print(\"SUCCESSFULL\")\n",
    "else:\n",
    "    print(\"FAILED\")"
   ]
  },
  {
   "cell_type": "code",
   "execution_count": null,
   "id": "ae55fd2a",
   "metadata": {},
   "outputs": [],
   "source": []
  }
 ],
 "metadata": {
  "kernelspec": {
   "display_name": "Python 3 (ipykernel)",
   "language": "python",
   "name": "python3"
  },
  "language_info": {
   "codemirror_mode": {
    "name": "ipython",
    "version": 3
   },
   "file_extension": ".py",
   "mimetype": "text/x-python",
   "name": "python",
   "nbconvert_exporter": "python",
   "pygments_lexer": "ipython3",
   "version": "3.9.12"
  }
 },
 "nbformat": 4,
 "nbformat_minor": 5
}
