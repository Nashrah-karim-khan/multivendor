{
 "cells": [
  {
   "cell_type": "code",
   "execution_count": 19,
   "id": "6a8d8a0b",
   "metadata": {},
   "outputs": [
    {
     "name": "stdout",
     "output_type": "stream",
     "text": [
      "imported\n"
     ]
    }
   ],
   "source": [
    "from selenium.common.exceptions import NoSuchElementException, ElementClickInterceptedException\n",
    "from selenium import webdriver\n",
    "import time\n",
    "print(\"imported\")"
   ]
  },
  {
   "cell_type": "code",
   "execution_count": 20,
   "id": "7d6d3fbb",
   "metadata": {},
   "outputs": [],
   "source": [
    "options = webdriver.ChromeOptions()\n",
    "driver = webdriver.Chrome(executable_path='chromedriver.exe', options=options)\n",
    "driver.set_window_size(1120, 1000)\n",
    "url = 'http://127.0.0.1:8000/'\n",
    "driver.get(url)"
   ]
  },
  {
   "cell_type": "code",
   "execution_count": 21,
   "id": "d464cdce",
   "metadata": {},
   "outputs": [],
   "source": [
    "#login \n",
    "options = webdriver.ChromeOptions()\n",
    "driver = webdriver.Chrome(executable_path='chromedriver.exe', options=options)\n",
    "driver.set_window_size(1120, 1000)\n",
    "login_url='http://127.0.0.1:8000/vendors/login/'\n",
    "driver.get(login_url)"
   ]
  },
  {
   "cell_type": "code",
   "execution_count": 27,
   "id": "b0f99ee0",
   "metadata": {},
   "outputs": [],
   "source": [
    "time.sleep(1)\n",
    "radio_option = driver.find_element_by_xpath('/html/body/section/div/label[2]')\n",
    "radio_option.click()\n",
    "time.sleep(1)\n",
    "is_selected = radio_option.is_selected()\n",
    "if is_selected == True:\n",
    " print('Passed')"
   ]
  },
  {
   "cell_type": "code",
   "execution_count": 23,
   "id": "2b4a6070",
   "metadata": {},
   "outputs": [
    {
     "name": "stdout",
     "output_type": "stream",
     "text": [
      "pass for test 1\n"
     ]
    }
   ],
   "source": [
    "login_name=driver.find_element_by_xpath('//*[@id=\"id_username\"]')\n",
    "login_name.click\n",
    "name = 'Nashrah'\n",
    "login_name.send_keys(name)\n",
    "text =login_name.get_attribute(\"value\")\n",
    "if text==name:\n",
    "    print('pass for test 1')"
   ]
  },
  {
   "cell_type": "code",
   "execution_count": 26,
   "id": "ee11697d",
   "metadata": {},
   "outputs": [
    {
     "name": "stdout",
     "output_type": "stream",
     "text": [
      "pass for test 2\n"
     ]
    }
   ],
   "source": [
    "login_name=driver.find_element_by_xpath('//*[@id=\"id_password\"]')\n",
    "login_name.click\n",
    "name = 'Nashrah'\n",
    "login_name.send_keys(name)\n",
    "text =login_name.get_attribute(\"value\")\n",
    "if text==name:\n",
    "    print('pass for test 2')"
   ]
  },
  {
   "cell_type": "code",
   "execution_count": 29,
   "id": "98688aa4",
   "metadata": {},
   "outputs": [],
   "source": [
    "options = webdriver.ChromeOptions()\n",
    "driver = webdriver.Chrome(executable_path='chromedriver.exe', options=options)\n",
    "driver.set_window_size(1120, 1000)\n",
    "login_url='http://127.0.0.1:8000/cart/'\n",
    "driver.get(login_url)"
   ]
  },
  {
   "cell_type": "code",
   "execution_count": null,
   "id": "772e2c5f",
   "metadata": {},
   "outputs": [],
   "source": []
  }
 ],
 "metadata": {
  "kernelspec": {
   "display_name": "Python 3 (ipykernel)",
   "language": "python",
   "name": "python3"
  },
  "language_info": {
   "codemirror_mode": {
    "name": "ipython",
    "version": 3
   },
   "file_extension": ".py",
   "mimetype": "text/x-python",
   "name": "python",
   "nbconvert_exporter": "python",
   "pygments_lexer": "ipython3",
   "version": "3.9.12"
  }
 },
 "nbformat": 4,
 "nbformat_minor": 5
}
